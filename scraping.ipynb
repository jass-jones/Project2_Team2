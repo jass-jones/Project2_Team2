{
 "cells": [
  {
   "cell_type": "markdown",
   "metadata": {},
   "source": [
    "Scraping basketball-reference 2021 per 100 possession data"
   ]
  },
  {
   "cell_type": "code",
   "execution_count": 2,
   "metadata": {},
   "outputs": [],
   "source": [
    "import pandas as pd\n",
    "from urllib.request import urlopen\n",
    "from bs4 import BeautifulSoup"
   ]
  },
  {
   "cell_type": "code",
   "execution_count": 2,
   "metadata": {},
   "outputs": [],
   "source": [
    "url = 'https://www.basketball-reference.com/leagues/NBA_2021_per_poss.html'\n",
    "html = urlopen(url)\n",
    "soup = BeautifulSoup(html)"
   ]
  },
  {
   "cell_type": "code",
   "execution_count": 3,
   "metadata": {},
   "outputs": [
    {
     "data": {
      "text/plain": [
       "['Player',\n",
       " 'Pos',\n",
       " 'Age',\n",
       " 'Tm',\n",
       " 'G',\n",
       " 'GS',\n",
       " 'MP',\n",
       " 'FG',\n",
       " 'FGA',\n",
       " 'FG%',\n",
       " '3P',\n",
       " '3PA',\n",
       " '3P%',\n",
       " '2P',\n",
       " '2PA',\n",
       " '2P%',\n",
       " 'FT',\n",
       " 'FTA',\n",
       " 'FT%',\n",
       " 'ORB',\n",
       " 'DRB',\n",
       " 'TRB',\n",
       " 'AST',\n",
       " 'STL',\n",
       " 'BLK',\n",
       " 'TOV',\n",
       " 'PF',\n",
       " 'PTS',\n",
       " '',\n",
       " 'ORtg',\n",
       " 'DRtg']"
      ]
     },
     "execution_count": 3,
     "metadata": {},
     "output_type": "execute_result"
    }
   ],
   "source": [
    "soup.findAll('tr', limit=2)\n",
    "headers = [th.getText() for th in soup.findAll('tr',limit=2)[0].findAll('th')]\n",
    "headers = headers[1:]\n",
    "headers\n"
   ]
  },
  {
   "cell_type": "code",
   "execution_count": 4,
   "metadata": {},
   "outputs": [],
   "source": [
    "rows = soup.findAll('tr')[1:]\n",
    "player_stats = [[td.getText() for td in rows[i].findAll('td')]\n",
    "                for i in range(len(rows))]"
   ]
  },
  {
   "cell_type": "code",
   "execution_count": 10,
   "metadata": {},
   "outputs": [],
   "source": [
    "stats_per100 = pd.DataFrame(player_stats,columns = headers)\n",
    "stats_per100.head()\n",
    "stats_per100.to_csv('stats_per100.csv',index=False,header=True)"
   ]
  },
  {
   "cell_type": "markdown",
   "metadata": {},
   "source": [
    "Repeat the process to get per 36 minutes data"
   ]
  },
  {
   "cell_type": "code",
   "execution_count": 3,
   "metadata": {},
   "outputs": [],
   "source": [
    "url = 'https://www.basketball-reference.com/leagues/NBA_2021_per_minute.html'\n",
    "html = urlopen(url)\n",
    "soup = BeautifulSoup(html)"
   ]
  },
  {
   "cell_type": "code",
   "execution_count": 4,
   "metadata": {},
   "outputs": [
    {
     "data": {
      "text/plain": [
       "['Player',\n",
       " 'Pos',\n",
       " 'Age',\n",
       " 'Tm',\n",
       " 'G',\n",
       " 'GS',\n",
       " 'MP',\n",
       " 'FG',\n",
       " 'FGA',\n",
       " 'FG%',\n",
       " '3P',\n",
       " '3PA',\n",
       " '3P%',\n",
       " '2P',\n",
       " '2PA',\n",
       " '2P%',\n",
       " 'FT',\n",
       " 'FTA',\n",
       " 'FT%',\n",
       " 'ORB',\n",
       " 'DRB',\n",
       " 'TRB',\n",
       " 'AST',\n",
       " 'STL',\n",
       " 'BLK',\n",
       " 'TOV',\n",
       " 'PF',\n",
       " 'PTS']"
      ]
     },
     "execution_count": 4,
     "metadata": {},
     "output_type": "execute_result"
    }
   ],
   "source": [
    "soup.findAll('tr', limit=2)\n",
    "headers = [th.getText() for th in soup.findAll('tr',limit=2)[0].findAll('th')]\n",
    "headers = headers[1:]\n",
    "headers\n"
   ]
  },
  {
   "cell_type": "code",
   "execution_count": 5,
   "metadata": {},
   "outputs": [],
   "source": [
    "rows = soup.findAll('tr')[1:]\n",
    "player_stats = [[td.getText() for td in rows[i].findAll('td')]\n",
    "                for i in range(len(rows))]"
   ]
  },
  {
   "cell_type": "code",
   "execution_count": 6,
   "metadata": {},
   "outputs": [
    {
     "data": {
      "text/html": [
       "<div>\n",
       "<style scoped>\n",
       "    .dataframe tbody tr th:only-of-type {\n",
       "        vertical-align: middle;\n",
       "    }\n",
       "\n",
       "    .dataframe tbody tr th {\n",
       "        vertical-align: top;\n",
       "    }\n",
       "\n",
       "    .dataframe thead th {\n",
       "        text-align: right;\n",
       "    }\n",
       "</style>\n",
       "<table border=\"1\" class=\"dataframe\">\n",
       "  <thead>\n",
       "    <tr style=\"text-align: right;\">\n",
       "      <th></th>\n",
       "      <th>Player</th>\n",
       "      <th>Pos</th>\n",
       "      <th>Age</th>\n",
       "      <th>Tm</th>\n",
       "      <th>G</th>\n",
       "      <th>GS</th>\n",
       "      <th>MP</th>\n",
       "      <th>FG</th>\n",
       "      <th>FGA</th>\n",
       "      <th>FG%</th>\n",
       "      <th>...</th>\n",
       "      <th>FT%</th>\n",
       "      <th>ORB</th>\n",
       "      <th>DRB</th>\n",
       "      <th>TRB</th>\n",
       "      <th>AST</th>\n",
       "      <th>STL</th>\n",
       "      <th>BLK</th>\n",
       "      <th>TOV</th>\n",
       "      <th>PF</th>\n",
       "      <th>PTS</th>\n",
       "    </tr>\n",
       "  </thead>\n",
       "  <tbody>\n",
       "    <tr>\n",
       "      <th>0</th>\n",
       "      <td>Precious Achiuwa</td>\n",
       "      <td>PF</td>\n",
       "      <td>21</td>\n",
       "      <td>MIA</td>\n",
       "      <td>61</td>\n",
       "      <td>4</td>\n",
       "      <td>737</td>\n",
       "      <td>6.1</td>\n",
       "      <td>11.1</td>\n",
       "      <td>.544</td>\n",
       "      <td>...</td>\n",
       "      <td>.509</td>\n",
       "      <td>3.6</td>\n",
       "      <td>6.6</td>\n",
       "      <td>10.2</td>\n",
       "      <td>1.4</td>\n",
       "      <td>1.0</td>\n",
       "      <td>1.4</td>\n",
       "      <td>2.1</td>\n",
       "      <td>4.4</td>\n",
       "      <td>14.8</td>\n",
       "    </tr>\n",
       "    <tr>\n",
       "      <th>1</th>\n",
       "      <td>Jaylen Adams</td>\n",
       "      <td>PG</td>\n",
       "      <td>24</td>\n",
       "      <td>MIL</td>\n",
       "      <td>7</td>\n",
       "      <td>0</td>\n",
       "      <td>18</td>\n",
       "      <td>2.0</td>\n",
       "      <td>16.0</td>\n",
       "      <td>.125</td>\n",
       "      <td>...</td>\n",
       "      <td></td>\n",
       "      <td>0.0</td>\n",
       "      <td>6.0</td>\n",
       "      <td>6.0</td>\n",
       "      <td>4.0</td>\n",
       "      <td>0.0</td>\n",
       "      <td>0.0</td>\n",
       "      <td>0.0</td>\n",
       "      <td>2.0</td>\n",
       "      <td>4.0</td>\n",
       "    </tr>\n",
       "    <tr>\n",
       "      <th>2</th>\n",
       "      <td>Steven Adams</td>\n",
       "      <td>C</td>\n",
       "      <td>27</td>\n",
       "      <td>NOP</td>\n",
       "      <td>58</td>\n",
       "      <td>58</td>\n",
       "      <td>1605</td>\n",
       "      <td>4.2</td>\n",
       "      <td>6.9</td>\n",
       "      <td>.614</td>\n",
       "      <td>...</td>\n",
       "      <td>.444</td>\n",
       "      <td>4.8</td>\n",
       "      <td>6.8</td>\n",
       "      <td>11.5</td>\n",
       "      <td>2.5</td>\n",
       "      <td>1.2</td>\n",
       "      <td>0.9</td>\n",
       "      <td>1.7</td>\n",
       "      <td>2.5</td>\n",
       "      <td>9.8</td>\n",
       "    </tr>\n",
       "    <tr>\n",
       "      <th>3</th>\n",
       "      <td>Bam Adebayo</td>\n",
       "      <td>C</td>\n",
       "      <td>23</td>\n",
       "      <td>MIA</td>\n",
       "      <td>64</td>\n",
       "      <td>64</td>\n",
       "      <td>2143</td>\n",
       "      <td>7.7</td>\n",
       "      <td>13.4</td>\n",
       "      <td>.570</td>\n",
       "      <td>...</td>\n",
       "      <td>.799</td>\n",
       "      <td>2.4</td>\n",
       "      <td>7.2</td>\n",
       "      <td>9.6</td>\n",
       "      <td>5.8</td>\n",
       "      <td>1.3</td>\n",
       "      <td>1.1</td>\n",
       "      <td>2.8</td>\n",
       "      <td>2.4</td>\n",
       "      <td>20.1</td>\n",
       "    </tr>\n",
       "    <tr>\n",
       "      <th>4</th>\n",
       "      <td>LaMarcus Aldridge</td>\n",
       "      <td>C</td>\n",
       "      <td>35</td>\n",
       "      <td>TOT</td>\n",
       "      <td>26</td>\n",
       "      <td>23</td>\n",
       "      <td>674</td>\n",
       "      <td>7.5</td>\n",
       "      <td>15.8</td>\n",
       "      <td>.473</td>\n",
       "      <td>...</td>\n",
       "      <td>.872</td>\n",
       "      <td>1.0</td>\n",
       "      <td>5.3</td>\n",
       "      <td>6.3</td>\n",
       "      <td>2.6</td>\n",
       "      <td>0.6</td>\n",
       "      <td>1.5</td>\n",
       "      <td>1.4</td>\n",
       "      <td>2.5</td>\n",
       "      <td>18.8</td>\n",
       "    </tr>\n",
       "  </tbody>\n",
       "</table>\n",
       "<p>5 rows × 28 columns</p>\n",
       "</div>"
      ],
      "text/plain": [
       "              Player Pos Age   Tm   G  GS    MP   FG   FGA   FG%  ...   FT%  \\\n",
       "0   Precious Achiuwa  PF  21  MIA  61   4   737  6.1  11.1  .544  ...  .509   \n",
       "1       Jaylen Adams  PG  24  MIL   7   0    18  2.0  16.0  .125  ...         \n",
       "2       Steven Adams   C  27  NOP  58  58  1605  4.2   6.9  .614  ...  .444   \n",
       "3        Bam Adebayo   C  23  MIA  64  64  2143  7.7  13.4  .570  ...  .799   \n",
       "4  LaMarcus Aldridge   C  35  TOT  26  23   674  7.5  15.8  .473  ...  .872   \n",
       "\n",
       "   ORB  DRB   TRB  AST  STL  BLK  TOV   PF   PTS  \n",
       "0  3.6  6.6  10.2  1.4  1.0  1.4  2.1  4.4  14.8  \n",
       "1  0.0  6.0   6.0  4.0  0.0  0.0  0.0  2.0   4.0  \n",
       "2  4.8  6.8  11.5  2.5  1.2  0.9  1.7  2.5   9.8  \n",
       "3  2.4  7.2   9.6  5.8  1.3  1.1  2.8  2.4  20.1  \n",
       "4  1.0  5.3   6.3  2.6  0.6  1.5  1.4  2.5  18.8  \n",
       "\n",
       "[5 rows x 28 columns]"
      ]
     },
     "execution_count": 6,
     "metadata": {},
     "output_type": "execute_result"
    }
   ],
   "source": [
    "stats_per36 = pd.DataFrame(player_stats,columns=headers)\n",
    "stats_per36.head()"
   ]
  },
  {
   "cell_type": "markdown",
   "metadata": {},
   "source": [
    "Cleaning up redundancies"
   ]
  },
  {
   "cell_type": "code",
   "execution_count": 9,
   "metadata": {},
   "outputs": [],
   "source": [
    "stats_per36 = stats_per36[['Player','Pos','Age','Tm','G','GS','MP','FG','FGA','FT','FTA','3P','3PA','2P','2PA','ORB','DRB','TRB','AST','STL','BLK','TOV','PF','PTS']]\n",
    "stats_per36.head()\n",
    "stats_per36.to_csv('stats_per36.csv',index=False,header=True)"
   ]
  }
 ],
 "metadata": {
  "interpreter": {
   "hash": "5534874fe8412e676a660b9e60c3e31abe6939eee95a7a3ce6f77205e90438eb"
  },
  "kernelspec": {
   "display_name": "Python 3.8.8 64-bit ('base': conda)",
   "name": "python3"
  },
  "language_info": {
   "codemirror_mode": {
    "name": "ipython",
    "version": 3
   },
   "file_extension": ".py",
   "mimetype": "text/x-python",
   "name": "python",
   "nbconvert_exporter": "python",
   "pygments_lexer": "ipython3",
   "version": "3.8.8"
  },
  "orig_nbformat": 4
 },
 "nbformat": 4,
 "nbformat_minor": 2
}
